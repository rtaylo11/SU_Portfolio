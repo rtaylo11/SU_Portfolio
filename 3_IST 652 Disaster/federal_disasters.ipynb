{
 "cells": [
  {
   "cell_type": "code",
   "execution_count": 3,
   "metadata": {},
   "outputs": [
    {
     "name": "stdout",
     "output_type": "stream",
     "text": [
      "\n",
      "The following command must be run outside of the IPython shell:\n",
      "\n",
      "    $ pip install <https://github.com/pandas-profiling/pandas-profiling/archive/master.zip>\n",
      "\n",
      "The Python package manager (pip) can only be used from outside of IPython.\n",
      "Please reissue the `pip` command in a separate terminal or command prompt.\n",
      "\n",
      "See the Python documentation for more informations on how to install packages:\n",
      "\n",
      "    https://docs.python.org/3/installing/\n"
     ]
    }
   ],
   "source": [
    "pip install <https://github.com/pandas-profiling/pandas-profiling/archive/master.zip>"
   ]
  },
  {
   "cell_type": "code",
   "execution_count": 2,
   "metadata": {
    "colab": {},
    "colab_type": "code",
    "id": "pR0WhcU4KAyo"
   },
   "outputs": [
    {
     "ename": "ModuleNotFoundError",
     "evalue": "No module named 'pandas_profiling'",
     "output_type": "error",
     "traceback": [
      "\u001b[0;31m---------------------------------------------------------------------------\u001b[0m",
      "\u001b[0;31mModuleNotFoundError\u001b[0m                       Traceback (most recent call last)",
      "\u001b[0;32m<ipython-input-2-d4d5963de552>\u001b[0m in \u001b[0;36m<module>\u001b[0;34m()\u001b[0m\n\u001b[1;32m      1\u001b[0m \u001b[0;32mimport\u001b[0m \u001b[0mpandas\u001b[0m \u001b[0;32mas\u001b[0m \u001b[0mpd\u001b[0m\u001b[0;34m\u001b[0m\u001b[0m\n\u001b[0;32m----> 2\u001b[0;31m \u001b[0;32mimport\u001b[0m \u001b[0mpandas_profiling\u001b[0m \u001b[0;32mas\u001b[0m \u001b[0mpp\u001b[0m\u001b[0;34m\u001b[0m\u001b[0m\n\u001b[0m\u001b[1;32m      3\u001b[0m \u001b[0;32mimport\u001b[0m \u001b[0mseaborn\u001b[0m \u001b[0;32mas\u001b[0m \u001b[0msns\u001b[0m\u001b[0;34m\u001b[0m\u001b[0m\n\u001b[1;32m      4\u001b[0m \u001b[0mget_ipython\u001b[0m\u001b[0;34m(\u001b[0m\u001b[0;34m)\u001b[0m\u001b[0;34m.\u001b[0m\u001b[0mmagic\u001b[0m\u001b[0;34m(\u001b[0m\u001b[0;34m'matplotlib inline'\u001b[0m\u001b[0;34m)\u001b[0m\u001b[0;34m\u001b[0m\u001b[0m\n\u001b[1;32m      5\u001b[0m \u001b[0;32mimport\u001b[0m \u001b[0mnumpy\u001b[0m \u001b[0;32mas\u001b[0m \u001b[0mnp\u001b[0m\u001b[0;34m\u001b[0m\u001b[0m\n",
      "\u001b[0;31mModuleNotFoundError\u001b[0m: No module named 'pandas_profiling'"
     ]
    }
   ],
   "source": [
    "import pandas as pd\n",
    "import pandas_profiling as pp\n",
    "import seaborn as sns\n",
    "%matplotlib inline \n",
    "import numpy as np\n",
    "import matplotlib.pyplot as plt\n",
    "from matplotlib import rc"
   ]
  },
  {
   "cell_type": "markdown",
   "metadata": {
    "colab_type": "text",
    "id": "pcPh00xby5ID"
   },
   "source": [
    "# Data Cleaning"
   ]
  },
  {
   "cell_type": "code",
   "execution_count": null,
   "metadata": {
    "colab": {
     "base_uri": "https://localhost:8080/",
     "height": 241
    },
    "colab_type": "code",
    "id": "9OuwtEhIKOvB",
    "outputId": "bf38c51e-73fd-4844-eb95-ff2136d94f15"
   },
   "outputs": [],
   "source": [
    "data = pd.read_csv(\"https://raw.githubusercontent.com/ygeszvain/BigDataAnalytics/master/database.csv\")\n",
    "data.head()"
   ]
  },
  {
   "cell_type": "code",
   "execution_count": null,
   "metadata": {
    "colab": {
     "base_uri": "https://localhost:8080/",
     "height": 347
    },
    "colab_type": "code",
    "id": "s4919s3Jn3rV",
    "outputId": "1e0a20e1-d063-45f8-f1ae-fd59d8cbd23e"
   },
   "outputs": [],
   "source": [
    "data.info()"
   ]
  },
  {
   "cell_type": "code",
   "execution_count": null,
   "metadata": {
    "colab": {},
    "colab_type": "code",
    "collapsed": true,
    "id": "Rby8nWbbLYeo"
   },
   "outputs": [],
   "source": [
    "data.columns = [\"DeclarationNumber\",\"DeclarationType\",\"DeclarationDate\", \n",
    "               \"State\",\"County\",\"DisasterType\",\"DisasterTitle\",\"StartDate\",\n",
    "               \"EndDate\",\"CloseDate\",\"IndividualAssistanceProgram\",\"IndividualsHouseholdsProgram\",\n",
    "               \"PublicAssistanceProgram\",\"HazardMitigationProgram\"]"
   ]
  },
  {
   "cell_type": "code",
   "execution_count": null,
   "metadata": {
    "colab": {},
    "colab_type": "code",
    "collapsed": true,
    "id": "b5Jd9k5NLLDC"
   },
   "outputs": [],
   "source": [
    "data['IndividualAssistanceProgram'] = data['IndividualAssistanceProgram'].map({'Yes': 1, 'No': 0})\n",
    "data['IndividualsHouseholdsProgram'] = data['IndividualsHouseholdsProgram'].map({'Yes': 1, 'No': 0})\n",
    "data['PublicAssistanceProgram'] = data['PublicAssistanceProgram'].map({'Yes': 1, 'No': 0})\n",
    "data['HazardMitigationProgram'] = data['HazardMitigationProgram'].map({'Yes': 1, 'No': 0})"
   ]
  },
  {
   "cell_type": "code",
   "execution_count": null,
   "metadata": {
    "colab": {},
    "colab_type": "code",
    "collapsed": true,
    "id": "7OhlmQWhN6KU"
   },
   "outputs": [],
   "source": [
    "data['DeclarationDate'] = pd.to_datetime(data['DeclarationDate'])\n",
    "data['StartDate'] = pd.to_datetime(data['StartDate'])\n",
    "data['EndDate'] = pd.to_datetime(data['EndDate'])\n",
    "data['CloseDate'] = pd.to_datetime(data['CloseDate'])\n",
    "data['DeclarationNumber'] = data['DeclarationNumber'].astype('category')\n",
    "data['DeclarationType'] = data['DeclarationType'].astype('category')\n",
    "data['State'] = data['State'].astype('category')\n",
    "data['County'] = data['County'].astype('category')\n",
    "data['DisasterType'] = data['DisasterType'].astype('category')\n",
    "data['DisasterTitle'] = data['DisasterTitle'].astype('category')\n",
    "data['IndividualAssistanceProgram'] = data['IndividualAssistanceProgram'].astype('category')\n",
    "data['IndividualsHouseholdsProgram'] = data['IndividualsHouseholdsProgram'].astype('category')\n",
    "data['PublicAssistanceProgram'] = data['PublicAssistanceProgram'].astype('category')\n",
    "data['HazardMitigationProgram'] = data['HazardMitigationProgram'].astype('category')\n",
    "data['month'] = data['DeclarationDate'].dt.strftime('%m')\n",
    "data['season'] = (data['DeclarationDate'].dt.month%12 + 3)//3\n",
    "#Month 12,1,2: Winter; 3,4,5: Spring; 6,7,8: Summer; 9,10,11: Fall\n",
    "data['month'] = data['month'].astype('category')\n",
    "data['season'] = data['season'].astype('category')\n",
    "data['count'] = 1"
   ]
  },
  {
   "cell_type": "code",
   "execution_count": null,
   "metadata": {
    "colab": {
     "base_uri": "https://localhost:8080/",
     "height": 244
    },
    "colab_type": "code",
    "id": "r5R_3VZSNEsJ",
    "outputId": "615ecbc8-1cdf-4491-93a9-fa551451faed"
   },
   "outputs": [],
   "source": [
    "data.head()"
   ]
  },
  {
   "cell_type": "code",
   "execution_count": null,
   "metadata": {
    "colab": {
     "base_uri": "https://localhost:8080/",
     "height": 330
    },
    "colab_type": "code",
    "id": "Foke5lUyKttg",
    "outputId": "d9891dd5-caa5-42ab-c2fe-2f8a3aa0a4f8"
   },
   "outputs": [],
   "source": [
    "data.dtypes"
   ]
  },
  {
   "cell_type": "code",
   "execution_count": null,
   "metadata": {
    "colab": {
     "base_uri": "https://localhost:8080/",
     "height": 399
    },
    "colab_type": "code",
    "id": "Gtie7ZslKvNT",
    "outputId": "5e430cdf-a811-4f7d-8741-a59c244aa3fc"
   },
   "outputs": [],
   "source": [
    "data.info()"
   ]
  },
  {
   "cell_type": "code",
   "execution_count": null,
   "metadata": {
    "colab": {
     "base_uri": "https://localhost:8080/",
     "height": 300
    },
    "colab_type": "code",
    "id": "RSdQNZQ9Kw9z",
    "outputId": "2c44e333-b009-43e0-909c-12167d1e29e9"
   },
   "outputs": [],
   "source": [
    "data.describe()"
   ]
  },
  {
   "cell_type": "code",
   "execution_count": null,
   "metadata": {
    "colab": {
     "base_uri": "https://localhost:8080/",
     "height": 86
    },
    "colab_type": "code",
    "id": "h3UskHmac4n9",
    "outputId": "93bf3c14-04a8-45b1-ce1b-bacc4c2bddc4"
   },
   "outputs": [],
   "source": [
    "data['DeclarationType'].value_counts()"
   ]
  },
  {
   "cell_type": "code",
   "execution_count": null,
   "metadata": {
    "colab": {
     "base_uri": "https://localhost:8080/",
     "height": 298
    },
    "colab_type": "code",
    "id": "kf_4ajSZT4Qp",
    "outputId": "3b59c45d-9584-41af-b62f-fb7cb997d865"
   },
   "outputs": [],
   "source": [
    "sns.countplot(x='DeclarationType',data=data)"
   ]
  },
  {
   "cell_type": "code",
   "execution_count": null,
   "metadata": {
    "colab": {
     "base_uri": "https://localhost:8080/",
     "height": 731
    },
    "colab_type": "code",
    "id": "U-l3RgZ9V7vx",
    "outputId": "aac41296-f663-46d5-9475-e08ce1f00ba2"
   },
   "outputs": [],
   "source": [
    "plt.figure(figsize=(20, 12))\n",
    "sns.countplot(x='State',data=data)"
   ]
  },
  {
   "cell_type": "code",
   "execution_count": null,
   "metadata": {
    "colab": {
     "base_uri": "https://localhost:8080/",
     "height": 629
    },
    "colab_type": "code",
    "id": "bSRPVCtnb3Fd",
    "outputId": "05974b32-2e39-481d-dedb-18f6ec92c6e0"
   },
   "outputs": [],
   "source": [
    "from matplotlib.pyplot import figure\n",
    "data['count'] = 1\n",
    "data_count_DeclarationType = data[['State','DeclarationType','count']]\n",
    "data_count_DeclarationType = data_count_DeclarationType.groupby(['State', 'DeclarationType'])['State'].count().unstack('DeclarationType').fillna(0)\n",
    "data_count_DeclarationType = data_count_DeclarationType[['Disaster','Emergency','Fire']]\n",
    "fig, ax = plt.subplots(figsize=(20,10))\n",
    "data_count_DeclarationType.plot(kind='bar', stacked=True, ax=ax)"
   ]
  },
  {
   "cell_type": "code",
   "execution_count": null,
   "metadata": {
    "colab": {
     "base_uri": "https://localhost:8080/",
     "height": 405
    },
    "colab_type": "code",
    "id": "wDf8_YvSaqC_",
    "outputId": "b744f1b2-74b3-42c9-a12f-0b152b7884b1"
   },
   "outputs": [],
   "source": [
    "plt.figure(figsize=(16, 6))\n",
    "sns.countplot(x='month',data=data)"
   ]
  },
  {
   "cell_type": "code",
   "execution_count": null,
   "metadata": {
    "colab": {
     "base_uri": "https://localhost:8080/",
     "height": 514
    },
    "colab_type": "code",
    "id": "8FVyE8Qaast3",
    "outputId": "38e96c7b-a7a2-4130-ffeb-c7c6c0b93e58"
   },
   "outputs": [],
   "source": [
    "plt.figure(figsize=(12, 8))\n",
    "sns.countplot(x='season',data=data)"
   ]
  },
  {
   "cell_type": "markdown",
   "metadata": {
    "colab_type": "text",
    "id": "j-QNm12d5Ui1"
   },
   "source": [
    "**Examination of Data by State**"
   ]
  },
  {
   "cell_type": "code",
   "execution_count": null,
   "metadata": {
    "colab": {
     "base_uri": "https://localhost:8080/",
     "height": 382
    },
    "colab_type": "code",
    "id": "z_QKCa2MTPaa",
    "outputId": "59b73829-a700-48bf-c86f-1cb4fc9bf7b4"
   },
   "outputs": [],
   "source": [
    "data['DisasterType'].value_counts()"
   ]
  },
  {
   "cell_type": "code",
   "execution_count": null,
   "metadata": {
    "colab": {
     "base_uri": "https://localhost:8080/",
     "height": 839
    },
    "colab_type": "code",
    "id": "YFzKBu8hkgK6",
    "outputId": "9b5d0d99-c693-4270-cb24-0869387ceb8d"
   },
   "outputs": [],
   "source": [
    "plt.figure(figsize=(20, 12))\n",
    "sns.countplot(x='DisasterType', data=data)\n",
    "plt.xticks(rotation=45, horizontalalignment='right',fontweight='light',fontsize='x-large')"
   ]
  },
  {
   "cell_type": "code",
   "execution_count": null,
   "metadata": {
    "colab": {},
    "colab_type": "code",
    "collapsed": true,
    "id": "DN4PjxQq8fGM"
   },
   "outputs": [],
   "source": [
    "pivotTable = pd.pivot_table(data, values='count', index=['State'], columns=['DisasterType'], aggfunc=np.sum, fill_value=0)"
   ]
  },
  {
   "cell_type": "code",
   "execution_count": null,
   "metadata": {
    "colab": {
     "base_uri": "https://localhost:8080/",
     "height": 1000
    },
    "colab_type": "code",
    "id": "7fqmrA3i9J3X",
    "outputId": "60a9bac0-9833-4a6d-9a31-57410f2d774c"
   },
   "outputs": [],
   "source": [
    "pivotTable"
   ]
  },
  {
   "cell_type": "code",
   "execution_count": null,
   "metadata": {
    "colab": {
     "base_uri": "https://localhost:8080/",
     "height": 612
    },
    "colab_type": "code",
    "id": "UMnHS96TM2fL",
    "outputId": "b624f29d-dfdd-4054-b7a5-ba595b3bb2c5"
   },
   "outputs": [],
   "source": [
    "fig, ax = plt.subplots(figsize=(20,10))\n",
    "pd.pivot_table(data, values='count', index=['State'], columns=['DisasterType'], aggfunc=np.sum, fill_value=0).plot(kind='bar', ax = ax)\n",
    "plt.ylabel('Counts');"
   ]
  },
  {
   "cell_type": "code",
   "execution_count": null,
   "metadata": {
    "colab": {
     "base_uri": "https://localhost:8080/",
     "height": 629
    },
    "colab_type": "code",
    "id": "-Kb785pvOuU7",
    "outputId": "28873b5b-8681-4361-c728-dfe99ec57461"
   },
   "outputs": [],
   "source": [
    "#all states stacked\n",
    "from matplotlib.pyplot import figure\n",
    "data['count'] = 1\n",
    "data_count_DisasterType = data[['State','DisasterType','count']]\n",
    "data_count_DisasterType = data_count_DisasterType.groupby(['State', 'DisasterType'])['State'].count().unstack('DisasterType').fillna(0)\n",
    "data_count_DisasterType = data_count_DisasterType[['Tornado', 'Flood', 'Fire', 'Other', 'Earthquake', 'Hurricane', 'Volcano', 'Storm',\n",
    "                                                   'Chemical', 'Typhoon', 'Drought', 'Dam/Levee Break', 'Snow', 'Ice', 'Winter', 'Water',\n",
    "                                                   'Mud/Landslide', 'Human Cause', 'Terrorism', 'Tsunami']]\n",
    "data_count_DisasterType = data_count_DisasterType.loc[:, (data_count_DisasterType != 0).any(axis=0)]\n",
    "fig, ax = plt.subplots(figsize=(20,10))\n",
    "data_count_DisasterType.plot(kind='bar', stacked=True, ax=ax)"
   ]
  },
  {
   "cell_type": "code",
   "execution_count": null,
   "metadata": {
    "colab": {
     "base_uri": "https://localhost:8080/",
     "height": 1000
    },
    "colab_type": "code",
    "id": "n3EKQ2t4UcDi",
    "outputId": "acfb829d-d407-4c8a-ba09-27574ccdd3e6"
   },
   "outputs": [],
   "source": [
    "data_count_DisasterType"
   ]
  },
  {
   "cell_type": "code",
   "execution_count": null,
   "metadata": {
    "colab": {},
    "colab_type": "code",
    "collapsed": true,
    "id": "QU0txKvZLwUD"
   },
   "outputs": [],
   "source": [
    "# TX, MO, KY, VA, OK\n",
    "top5 = data_count_DisasterType.loc[['TX', 'MO', 'KY', 'VA', 'OK']]\n",
    "top5 = top5.loc[:, (top5 != 0).any(axis=0)]"
   ]
  },
  {
   "cell_type": "code",
   "execution_count": null,
   "metadata": {
    "colab": {
     "base_uri": "https://localhost:8080/",
     "height": 238
    },
    "colab_type": "code",
    "id": "Nw7veSCmUQe6",
    "outputId": "0c9d991c-3698-496e-82c0-72ea3edc592e"
   },
   "outputs": [],
   "source": [
    "top5"
   ]
  },
  {
   "cell_type": "code",
   "execution_count": null,
   "metadata": {
    "colab": {
     "base_uri": "https://localhost:8080/",
     "height": 629
    },
    "colab_type": "code",
    "id": "XJXOMB81S5Vp",
    "outputId": "f52bacd1-90a3-4786-8954-d7209ca8e65c"
   },
   "outputs": [],
   "source": [
    "#top 5\n",
    "\n",
    "fig, ax = plt.subplots(figsize=(20,10))\n",
    "top5.plot(kind='bar', stacked=True, ax=ax)"
   ]
  },
  {
   "cell_type": "code",
   "execution_count": null,
   "metadata": {
    "colab": {
     "base_uri": "https://localhost:8080/",
     "height": 399
    },
    "colab_type": "code",
    "id": "pxGIGgJcDGJ9",
    "outputId": "54c14cef-7a54-41f2-c8db-3b0dbe4656c1"
   },
   "outputs": [],
   "source": [
    "pivotTable.loc['VA']\n",
    "#pivotTable.info()\n",
    "#pivotTable.describe()"
   ]
  },
  {
   "cell_type": "markdown",
   "metadata": {
    "colab_type": "text",
    "id": "P-sBvFbd8VLM"
   },
   "source": [
    "**By Region**"
   ]
  },
  {
   "cell_type": "code",
   "execution_count": null,
   "metadata": {
    "colab": {
     "base_uri": "https://localhost:8080/",
     "height": 1000
    },
    "colab_type": "code",
    "id": "MCH2RFUwbBY1",
    "outputId": "4e6a2639-951d-4d41-aa9f-67be8e179a37"
   },
   "outputs": [],
   "source": [
    "sns.pairplot(data, hue=\"DeclarationType\")"
   ]
  },
  {
   "cell_type": "code",
   "execution_count": null,
   "metadata": {
    "colab": {
     "base_uri": "https://localhost:8080/",
     "height": 206
    },
    "colab_type": "code",
    "id": "dyXDKMJubSrB",
    "outputId": "4d895373-f9d3-442d-9142-fac2c2321901"
   },
   "outputs": [],
   "source": [
    "data_corr = data[['DeclarationType','State','season','month']]\n",
    "data_corr.head()"
   ]
  },
  {
   "cell_type": "code",
   "execution_count": null,
   "metadata": {
    "colab": {
     "base_uri": "https://localhost:8080/",
     "height": 225
    },
    "colab_type": "code",
    "id": "AusI3A71cYea",
    "outputId": "77109a37-7710-4fca-87c9-3712fc3d23d5"
   },
   "outputs": [],
   "source": [
    "data_corr['season'] = data_corr['season'].astype(int)\n",
    "data_corr['month'] = data_corr['month'].astype(int)"
   ]
  },
  {
   "cell_type": "code",
   "execution_count": null,
   "metadata": {
    "colab": {
     "base_uri": "https://localhost:8080/",
     "height": 514
    },
    "colab_type": "code",
    "id": "jikbB6FZcEIZ",
    "outputId": "1ea7ff0a-169e-4da2-9428-bfa70248db77"
   },
   "outputs": [],
   "source": [
    "plt.figure(figsize=(12, 8))\n",
    "sns.violinplot(x='DeclarationType', y='season',data=data_corr)"
   ]
  },
  {
   "cell_type": "code",
   "execution_count": null,
   "metadata": {
    "colab": {
     "base_uri": "https://localhost:8080/",
     "height": 518
    },
    "colab_type": "code",
    "id": "K-ikYfMbckRO",
    "outputId": "0cbb6002-5a8a-40ee-e02f-88f4e0b9f460"
   },
   "outputs": [],
   "source": [
    "plt.figure(figsize=(12, 8))\n",
    "sns.violinplot(x='DeclarationType', y='month',data=data_corr)"
   ]
  },
  {
   "cell_type": "code",
   "execution_count": null,
   "metadata": {
    "colab": {
     "base_uri": "https://localhost:8080/",
     "height": 206
    },
    "colab_type": "code",
    "id": "OCu_-yzdXCDZ",
    "outputId": "dd443fa1-1291-4710-935d-5cc110dc0a91"
   },
   "outputs": [],
   "source": [
    "data['count'] = 1\n",
    "state_counts =data.groupby(['State'])['count'].sum()\n",
    "state_declaration_counts = pd.DataFrame(state_counts)\n",
    "state_declaration_counts.reset_index(inplace = True) \n",
    "state_declaration_counts.head()"
   ]
  },
  {
   "cell_type": "code",
   "execution_count": null,
   "metadata": {
    "colab": {
     "base_uri": "https://localhost:8080/",
     "height": 542
    },
    "colab_type": "code",
    "id": "9lvVm94qZf4c",
    "outputId": "1e93f048-a3f0-477d-af16-d127ac4fe3d9"
   },
   "outputs": [],
   "source": [
    "import plotly.express as px  # Be sure to import express\n",
    "fig = px.choropleth(state_declaration_counts,  # Input Pandas DataFrame\n",
    "                    locations=\"State\",  # DataFrame column with locations\n",
    "                    color=\"count\",  # DataFrame column with color values\n",
    "                    hover_name=\"State\", # DataFrame column hover info\n",
    "                    locationmode = 'USA-states') # Set to plot as US States\n",
    "fig.update_layout(\n",
    "    title_text = 'State Total Counts', # Create a Title\n",
    "    geo_scope='usa',  # Plot only the USA instead of globe\n",
    ")\n",
    "fig.show()  # Output the plot to the screen"
   ]
  },
  {
   "cell_type": "code",
   "execution_count": null,
   "metadata": {
    "colab": {},
    "colab_type": "code",
    "collapsed": true,
    "id": "bwnRdqto3WxU"
   },
   "outputs": [],
   "source": [
    "start_date = '01-01-2010'\n",
    "end_date = '12-31-2016'\n",
    "mask = (data['DeclarationDate'] > start_date) & (data['DeclarationDate'] <= end_date)\n",
    "data_seven_yrs = data.loc[mask]"
   ]
  },
  {
   "cell_type": "code",
   "execution_count": null,
   "metadata": {
    "colab": {
     "base_uri": "https://localhost:8080/",
     "height": 206
    },
    "colab_type": "code",
    "id": "B6aTgno8qPJX",
    "outputId": "b630d1eb-f483-46d4-f831-498e4405c822"
   },
   "outputs": [],
   "source": [
    "state_counts_seven_yrs =data_seven_yrs.groupby(['State'])['count'].sum()\n",
    "state_declaration_counts_seven_yrs = pd.DataFrame(state_counts_seven_yrs)\n",
    "state_declaration_counts_seven_yrs.reset_index(inplace = True) \n",
    "state_declaration_counts_seven_yrs.head()"
   ]
  },
  {
   "cell_type": "code",
   "execution_count": null,
   "metadata": {
    "colab": {
     "base_uri": "https://localhost:8080/",
     "height": 542
    },
    "colab_type": "code",
    "id": "szjKu021qpoG",
    "outputId": "e872408b-7811-4aaa-9ea2-f6fa9682c79e"
   },
   "outputs": [],
   "source": [
    "import plotly.express as px  # Be sure to import express\n",
    "fig = px.choropleth(state_declaration_counts_seven_yrs,  # Input Pandas DataFrame\n",
    "                    locations=\"State\",  # DataFrame column with locations\n",
    "                    color=\"count\",  # DataFrame column with color values\n",
    "                    hover_name=\"State\", # DataFrame column hover info\n",
    "                    locationmode = 'USA-states') # Set to plot as US States\n",
    "fig.update_layout(\n",
    "    title_text = 'State Total Counts', # Create a Title\n",
    "    geo_scope='usa',  # Plot only the USA instead of globe\n",
    ")\n",
    "fig.show()  # Output the plot to the screen"
   ]
  },
  {
   "cell_type": "code",
   "execution_count": null,
   "metadata": {
    "colab": {},
    "colab_type": "code",
    "collapsed": true,
    "id": "hGCuOk_7pyPf"
   },
   "outputs": [],
   "source": [
    "start_date = '01-01-2014'\n",
    "end_date = '12-31-2016'\n",
    "mask = (data['DeclarationDate'] > start_date) & (data['DeclarationDate'] <= end_date)\n",
    "data_three_yrs = data.loc[mask]"
   ]
  },
  {
   "cell_type": "code",
   "execution_count": null,
   "metadata": {
    "colab": {
     "base_uri": "https://localhost:8080/",
     "height": 206
    },
    "colab_type": "code",
    "id": "Iv_8rkj6qced",
    "outputId": "738dbf2c-927a-4809-cacf-5e09c0b8e350"
   },
   "outputs": [],
   "source": [
    "state_counts_three_yrs =data_three_yrs.groupby(['State'])['count'].sum()\n",
    "state_declaration_counts_three_yrs = pd.DataFrame(state_counts_three_yrs)\n",
    "state_declaration_counts_three_yrs.reset_index(inplace = True) \n",
    "state_declaration_counts_three_yrs.head()"
   ]
  },
  {
   "cell_type": "code",
   "execution_count": null,
   "metadata": {
    "colab": {
     "base_uri": "https://localhost:8080/",
     "height": 542
    },
    "colab_type": "code",
    "id": "B7lsjDVJqtpy",
    "outputId": "350fdb48-9640-4ef5-b574-3a3037f75193"
   },
   "outputs": [],
   "source": [
    "import plotly.express as px  # Be sure to import express\n",
    "fig = px.choropleth(state_declaration_counts_three_yrs,  # Input Pandas DataFrame\n",
    "                    locations=\"State\",  # DataFrame column with locations\n",
    "                    color=\"count\",  # DataFrame column with color values\n",
    "                    hover_name=\"State\", # DataFrame column hover info\n",
    "                    locationmode = 'USA-states') # Set to plot as US States\n",
    "fig.update_layout(\n",
    "    title_text = 'State Total Counts', # Create a Title\n",
    "    geo_scope='usa',  # Plot only the USA instead of globe\n",
    ")\n",
    "fig.show()  # Output the plot to the screen"
   ]
  },
  {
   "cell_type": "code",
   "execution_count": null,
   "metadata": {
    "colab": {
     "base_uri": "https://localhost:8080/",
     "height": 206
    },
    "colab_type": "code",
    "id": "qnsh-ihcrXnJ",
    "outputId": "b29a1976-e8c8-4d1c-c398-b9384b50f948"
   },
   "outputs": [],
   "source": [
    "state_counts_avg = pd.merge(state_declaration_counts_seven_yrs,\n",
    "                 state_counts_three_yrs,\n",
    "                 on='State')\n",
    "state_counts_avg['count_avg'] = (state_counts_avg['count_x']*3/7+state_counts_avg['count_y']*4/7)/2\n",
    "state_counts_avg = state_counts_avg[['State','count_avg']]\n",
    "state_counts_avg.head()"
   ]
  },
  {
   "cell_type": "code",
   "execution_count": null,
   "metadata": {
    "colab": {
     "base_uri": "https://localhost:8080/",
     "height": 542
    },
    "colab_type": "code",
    "id": "L_TnXRyxsEq9",
    "outputId": "2069d5df-345c-4628-e230-fead3a31a84f"
   },
   "outputs": [],
   "source": [
    "import plotly.express as px  # Be sure to import express\n",
    "fig = px.choropleth(state_counts_avg,  # Input Pandas DataFrame\n",
    "                    locations=\"State\",  # DataFrame column with locations\n",
    "                    color=\"count_avg\",  # DataFrame column with color values\n",
    "                    hover_name=\"State\", # DataFrame column hover info\n",
    "                    locationmode = 'USA-states') # Set to plot as US States\n",
    "fig.update_layout(\n",
    "    title_text = 'State Total Counts', # Create a Title\n",
    "    geo_scope='usa',  # Plot only the USA instead of globe\n",
    ")\n",
    "fig.show()  # Output the plot to the screen"
   ]
  },
  {
   "cell_type": "code",
   "execution_count": null,
   "metadata": {
    "colab": {
     "base_uri": "https://localhost:8080/",
     "height": 124
    },
    "colab_type": "code",
    "id": "PMGmhSKocQcR",
    "outputId": "05d3eaa2-c20d-4a7b-dcc7-a5037c836cee"
   },
   "outputs": [],
   "source": [
    "data.DisasterTitle.unique()"
   ]
  },
  {
   "cell_type": "code",
   "execution_count": null,
   "metadata": {
    "colab": {
     "base_uri": "https://localhost:8080/",
     "height": 206
    },
    "colab_type": "code",
    "id": "fgXtGe-UcioA",
    "outputId": "6a9fc515-7edc-4cdd-c42a-895be4703132"
   },
   "outputs": [],
   "source": [
    "data['count'] = 1\n",
    "state_counts =data.groupby(['State'])['count'].sum()\n",
    "state_declaration_counts = pd.DataFrame(state_counts)\n",
    "state_declaration_counts.reset_index(inplace = True) \n",
    "state_declaration_counts.head()"
   ]
  },
  {
   "cell_type": "code",
   "execution_count": null,
   "metadata": {
    "colab": {
     "base_uri": "https://localhost:8080/",
     "height": 542
    },
    "colab_type": "code",
    "id": "eoNZEca6fuvr",
    "outputId": "71d490dc-f86f-4707-b4f7-c86d234c0b91"
   },
   "outputs": [],
   "source": [
    "import plotly.express as px  # Be sure to import express\n",
    "fig = px.choropleth(state_declaration_counts,  # Input Pandas DataFrame\n",
    "                    locations=\"State\",  # DataFrame column with locations\n",
    "                    color=\"count\",  # DataFrame column with color values\n",
    "                    hover_name=\"State\", # DataFrame column hover info\n",
    "                    locationmode = 'USA-states') # Set to plot as US States\n",
    "fig.update_layout(\n",
    "    title_text = 'State Total Counts', # Create a Title\n",
    "    geo_scope='usa',  # Plot only the USA instead of globe\n",
    ")\n",
    "fig.show()  # Output the plot to the screen"
   ]
  },
  {
   "cell_type": "code",
   "execution_count": null,
   "metadata": {
    "colab": {},
    "colab_type": "code",
    "collapsed": true,
    "id": "HuHg5N7QfxGu"
   },
   "outputs": [],
   "source": [
    "start_date = '01-01-2010'\n",
    "end_date = '12-31-2016'\n",
    "mask = (data['DeclarationDate'] > start_date) & (data['DeclarationDate'] <= end_date)\n",
    "data_seven_yrs = data.loc[mask]"
   ]
  }
 ],
 "metadata": {
  "colab": {
   "collapsed_sections": [],
   "name": "federal-disasters.ipynb",
   "provenance": []
  },
  "kernelspec": {
   "display_name": "Python 3",
   "language": "python",
   "name": "python3"
  },
  "language_info": {
   "codemirror_mode": {
    "name": "ipython",
    "version": 3
   },
   "file_extension": ".py",
   "mimetype": "text/x-python",
   "name": "python",
   "nbconvert_exporter": "python",
   "pygments_lexer": "ipython3",
   "version": "3.6.2"
  }
 },
 "nbformat": 4,
 "nbformat_minor": 1
}
